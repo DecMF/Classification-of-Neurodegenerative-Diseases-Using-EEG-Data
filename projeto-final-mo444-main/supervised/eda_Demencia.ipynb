{
 "cells": [
  {
   "cell_type": "code",
   "execution_count": 1,
   "metadata": {},
   "outputs": [],
   "source": [
    "import numpy as np\n",
    "import matplotlib.pyplot as plt\n",
    "import os"
   ]
  },
  {
   "cell_type": "code",
   "execution_count": 2,
   "metadata": {},
   "outputs": [
    {
     "data": {
      "text/plain": [
       "['.gitignore',\n",
       " 'data',\n",
       " 'eda_proj_final_Alzheimer.ipynb',\n",
       " 'eda_proj_final_Demencia.ipynb',\n",
       " 'Untitled-1.ipynb']"
      ]
     },
     "execution_count": 2,
     "metadata": {},
     "output_type": "execute_result"
    }
   ],
   "source": [
    "os.listdir()\n",
    "#os.chdir(r'C:\\Users\\decmg\\OneDrive\\Documentos\\Material Disciplinas\\MO444')"
   ]
  },
  {
   "cell_type": "code",
   "execution_count": 4,
   "metadata": {},
   "outputs": [],
   "source": [
    "# Dados disponíveis em:\n",
    "# - Numpy: https://drive.google.com/drive/u/0/folders/1tz5eVPwGx4kTYKwbZAQLLbVmFQxZva0Q\n",
    "# - raw: https://openneuro.org/datasets/ds004504/versions/1.0.7"
   ]
  },
  {
   "cell_type": "markdown",
   "metadata": {},
   "source": [
    "## Manipulando os dados para chegar ao formato desejado"
   ]
  },
  {
   "cell_type": "code",
   "execution_count": null,
   "metadata": {},
   "outputs": [],
   "source": [
    "def load_train_val_test_list(label_path, a=0.6, b=0.8):\n",
    "\n",
    "    data_list = np.load(label_path)\n",
    "\n",
    "    cn_list = list(data_list[np.where(data_list[:, 0] == 0)][:, 1])  # healthy IDs\n",
    "    print(cn_list)\n",
    "    ftd_list = list(\n",
    "        data_list[np.where(data_list[:, 0] == 1)][:, 1]\n",
    "    )  # Frontotemporal Dementia IDs\n",
    "    print(ftd_list)\n",
    "    #ad_list = list(\n",
    "    #    data_list[np.where(data_list[:, 0] == 2)][:, 1]\n",
    "    #)  # Alzheimer's disease IDs\n",
    "    #print(ad_list)\n",
    "    train_ids = (\n",
    "        cn_list[: int(a * len(cn_list))]\n",
    "        + ftd_list[: int(a * len(ftd_list))]\n",
    "        #+ ad_list[: int(a * len(ad_list))]\n",
    "    )\n",
    "    val_ids = (\n",
    "        cn_list[int(a * len(cn_list)) : int(b * len(cn_list))]\n",
    "        + ftd_list[int(a * len(ftd_list)) : int(b * len(ftd_list))]\n",
    "        #+ ad_list[int(a * len(ad_list)) : int(b * len(ad_list))]\n",
    "    )\n",
    "    test_ids = (\n",
    "        cn_list[int(b * len(cn_list)) :]\n",
    "        + ftd_list[int(b * len(ftd_list)) :]\n",
    "        #+ ad_list[int(b * len(ad_list)) :]\n",
    "    )\n",
    "    return train_ids, val_ids, test_ids"
   ]
  },
  {
   "cell_type": "code",
   "execution_count": null,
   "metadata": {},
   "outputs": [
    {
     "name": "stdout",
     "output_type": "stream",
     "text": [
      "[37, 38, 39, 40, 41, 42, 43, 44, 45, 46, 47, 48, 49, 50, 51, 52, 53, 54, 55, 56, 57, 58, 59, 60, 61, 62, 63, 64, 65]\n",
      "[66, 67, 68, 69, 70, 71, 72, 73, 74, 75, 76, 77, 78, 79, 80, 81, 82, 83, 84, 85, 86, 87, 88]\n",
      "--> 30 : [37, 38, 39, 40, 41, 42, 43, 44, 45, 46, 47, 48, 49, 50, 51, 52, 53, 66, 67, 68, 69, 70, 71, 72, 73, 74, 75, 76, 77, 78]\n",
      "--> 11 : [54, 55, 56, 57, 58, 59, 79, 80, 81, 82, 83]\n",
      "--> 11 : [60, 61, 62, 63, 64, 65, 84, 85, 86, 87, 88]\n"
     ]
    }
   ],
   "source": [
    "label_path = 'data/ADFD/Label/label.npy'\n",
    "train_ids, val_ids, test_ids = load_train_val_test_list(label_path, a=0.6, b=0.8)\n",
    "print(f'--> {len(train_ids)} : {train_ids}')\n",
    "print(f'--> {len(val_ids)} : {val_ids}')\n",
    "print(f'--> {len(test_ids)} : {test_ids}')"
   ]
  },
  {
   "cell_type": "code",
   "execution_count": null,
   "metadata": {},
   "outputs": [
    {
     "name": "stdout",
     "output_type": "stream",
     "text": [
      "File related to Alzheimer. Id: 1.\n",
      "File related to Alzheimer. Id: 2.\n",
      "File related to Alzheimer. Id: 3.\n",
      "File related to Alzheimer. Id: 4.\n",
      "File related to Alzheimer. Id: 5.\n",
      "File related to Alzheimer. Id: 6.\n",
      "File related to Alzheimer. Id: 7.\n",
      "File related to Alzheimer. Id: 8.\n",
      "File related to Alzheimer. Id: 9.\n",
      "File related to Alzheimer. Id: 10.\n",
      "File related to Alzheimer. Id: 11.\n",
      "File related to Alzheimer. Id: 12.\n",
      "File related to Alzheimer. Id: 13.\n",
      "File related to Alzheimer. Id: 14.\n",
      "File related to Alzheimer. Id: 15.\n",
      "File related to Alzheimer. Id: 16.\n",
      "File related to Alzheimer. Id: 17.\n",
      "File related to Alzheimer. Id: 18.\n",
      "File related to Alzheimer. Id: 19.\n",
      "File related to Alzheimer. Id: 20.\n",
      "File related to Alzheimer. Id: 21.\n",
      "File related to Alzheimer. Id: 22.\n",
      "File related to Alzheimer. Id: 23.\n",
      "File related to Alzheimer. Id: 24.\n",
      "File related to Alzheimer. Id: 25.\n",
      "File related to Alzheimer. Id: 26.\n",
      "File related to Alzheimer. Id: 27.\n",
      "File related to Alzheimer. Id: 28.\n",
      "File related to Alzheimer. Id: 29.\n",
      "File related to Alzheimer. Id: 30.\n",
      "File related to Alzheimer. Id: 31.\n",
      "File related to Alzheimer. Id: 32.\n",
      "File related to Alzheimer. Id: 33.\n",
      "File related to Alzheimer. Id: 34.\n",
      "File related to Alzheimer. Id: 35.\n",
      "File related to Alzheimer. Id: 36.\n",
      "----------------------------------------------\n",
      "Concatenated shape for X_train: (23472, 256, 19)\n",
      "Concatenated shape for y_train: (23472,)\n",
      "----------------------\n",
      "np_train[0] shape: (23472, 256, 19)\n",
      "np_train[1] shape: (23472,)\n",
      "----------------------------------------------\n",
      "----------------------------------------------\n",
      "Concatenated shape for X_val: (9020, 256, 19)\n",
      "Concatenated shape for y_val: (9020,)\n",
      "----------------------\n",
      "np_val[0] shape: (9020, 256, 19)\n",
      "np_val[1] shape: (9020,)\n",
      "----------------------------------------------\n",
      "----------------------------------------------\n",
      "Concatenated shape for X_test: (8160, 256, 19)\n",
      "Concatenated shape for y_test: (8160,)\n",
      "----------------------\n",
      "np_test[0] shape: (8160, 256, 19)\n",
      "np_test[1] shape: (8160,)\n",
      "----------------------------------------------\n"
     ]
    }
   ],
   "source": [
    "import numpy as np\n",
    "from sklearn.utils import shuffle\n",
    "\n",
    "# Load labels\n",
    "labels = np.load('data/ADFD/Label/label.npy')  # Shape: (88, 2)\n",
    "\n",
    "# Lists to hold data sets for train, val, and test\n",
    "list_train = [[], []]\n",
    "list_val = [[], []]\n",
    "list_test = [[], []]\n",
    "\n",
    "for id in range(1, 89):\n",
    "\n",
    "    file_path = f\"data/ADFD/Feature/feature_{id:02}.npy\"\n",
    "    data_array = np.load(file_path)  # Load the patient data\n",
    "\n",
    "    label = labels[(id-1), 0]  # Directly use the label ID (not one-hot encoded)\n",
    "\n",
    "    # Choose list to use\n",
    "    if id in train_ids:\n",
    "        list_train[0].append(data_array)\n",
    "        for j in range(data_array.shape[0]):\n",
    "            list_train[1].append(label)\n",
    "    elif id in val_ids:\n",
    "        list_val[0].append(data_array)\n",
    "        for j in range(data_array.shape[0]):\n",
    "            list_val[1].append(label)\n",
    "    elif id in test_ids:\n",
    "        list_test[0].append(data_array)\n",
    "        for j in range(data_array.shape[0]):\n",
    "            list_test[1].append(label)\n",
    "    else:\n",
    "        print(f\"File related to Alzheimer. Id: {id}.\")\n",
    "\n",
    "X_train = np.concatenate(list_train[0], axis=0)\n",
    "y_train = np.array(list_train[1])\n",
    "X_train, y_train = shuffle(X_train, y_train, random_state=42)\n",
    "\n",
    "X_val = np.concatenate(list_val[0], axis=0)\n",
    "y_val = np.array(list_val[1])\n",
    "X_val, y_val = shuffle(X_val, y_val, random_state=42)\n",
    "\n",
    "X_test = np.concatenate(list_test[0], axis=0)\n",
    "y_test = np.array(list_test[1])\n",
    "X_test, y_test = shuffle(X_test, y_test, random_state=42)\n",
    "\n",
    "print(\"----------------------------------------------\")\n",
    "print(f\"Concatenated shape for X_train: {X_train.shape}\")\n",
    "print(f\"Concatenated shape for y_train: {y_train.shape}\")\n",
    "print(\"----------------------\")\n",
    "np_train = (X_train, y_train)\n",
    "print(f\"np_train[0] shape: {np_train[0].shape}\")\n",
    "print(f\"np_train[1] shape: {np_train[1].shape}\")\n",
    "print(\"----------------------------------------------\")\n",
    "\n",
    "print(\"----------------------------------------------\")\n",
    "print(f\"Concatenated shape for X_val: {X_val.shape}\")\n",
    "print(f\"Concatenated shape for y_val: {y_val.shape}\")\n",
    "print(\"----------------------\")\n",
    "np_val = (X_val, y_val)\n",
    "print(f\"np_val[0] shape: {np_val[0].shape}\")\n",
    "print(f\"np_val[1] shape: {np_val[1].shape}\")\n",
    "print(\"----------------------------------------------\")\n",
    "\n",
    "print(\"----------------------------------------------\")\n",
    "print(f\"Concatenated shape for X_test: {X_test.shape}\")\n",
    "print(f\"Concatenated shape for y_test: {y_test.shape}\")\n",
    "print(\"----------------------\")\n",
    "np_test = (X_test, y_test)\n",
    "print(f\"np_test[0] shape: {np_test[0].shape}\")\n",
    "print(f\"np_test[1] shape: {np_test[1].shape}\")\n",
    "print(\"----------------------------------------------\")"
   ]
  },
  {
   "cell_type": "markdown",
   "metadata": {},
   "source": [
    "## Importing to Binary Classification"
   ]
  },
  {
   "cell_type": "code",
   "execution_count": null,
   "metadata": {},
   "outputs": [],
   "source": [
    "base_path = r'data\\processed'"
   ]
  },
  {
   "cell_type": "code",
   "execution_count": 28,
   "metadata": {},
   "outputs": [],
   "source": [
    "np.save(os.path.join(base_path, 'X_train_bin_DM.npy'), X_train)\n",
    "np.save(os.path.join(base_path, 'y_train_bin_DM.npy'), y_train)\n",
    "np.save(os.path.join(base_path, 'X_val_bin_DM.npy'), X_val)\n",
    "np.save(os.path.join(base_path, 'y_val_bin_DM.npy'), y_val)\n",
    "np.save(os.path.join(base_path, 'X_test_bin_DM.npy'), X_test)\n",
    "np.save(os.path.join(base_path, 'y_test_bin_DM.npy'), y_test)"
   ]
  }
 ],
 "metadata": {
  "kernelspec": {
   "display_name": "Python 3",
   "language": "python",
   "name": "python3"
  },
  "language_info": {
   "codemirror_mode": {
    "name": "ipython",
    "version": 3
   },
   "file_extension": ".py",
   "mimetype": "text/x-python",
   "name": "python",
   "nbconvert_exporter": "python",
   "pygments_lexer": "ipython3",
   "version": "3.12.7"
  }
 },
 "nbformat": 4,
 "nbformat_minor": 2
}
